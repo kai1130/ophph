{
 "cells": [
  {
   "cell_type": "code",
   "execution_count": 14,
   "id": "875b30ec",
   "metadata": {},
   "outputs": [
    {
     "ename": "AttributeError",
     "evalue": "module 'torch' has no attribute 'has_mps'",
     "output_type": "error",
     "traceback": [
      "\u001b[0;31m---------------------------------------------------------------------------\u001b[0m",
      "\u001b[0;31mAttributeError\u001b[0m                            Traceback (most recent call last)",
      "\u001b[0;32m/var/folders/05/3mbz096d7hl6gftnzn2wbflr0000gn/T/ipykernel_16592/3824446767.py\u001b[0m in \u001b[0;36m<module>\u001b[0;34m\u001b[0m\n\u001b[1;32m      1\u001b[0m \u001b[0;32mimport\u001b[0m \u001b[0mtorch\u001b[0m\u001b[0;34m\u001b[0m\u001b[0;34m\u001b[0m\u001b[0m\n\u001b[0;32m----> 2\u001b[0;31m \u001b[0mtorch\u001b[0m\u001b[0;34m.\u001b[0m\u001b[0mhas_mps\u001b[0m\u001b[0;34m\u001b[0m\u001b[0;34m\u001b[0m\u001b[0m\n\u001b[0m\u001b[1;32m      3\u001b[0m \u001b[0mtorch\u001b[0m\u001b[0;34m.\u001b[0m\u001b[0mdevice\u001b[0m\u001b[0;34m(\u001b[0m\u001b[0;34m\"mps\"\u001b[0m\u001b[0;34m)\u001b[0m\u001b[0;34m\u001b[0m\u001b[0;34m\u001b[0m\u001b[0m\n",
      "\u001b[0;31mAttributeError\u001b[0m: module 'torch' has no attribute 'has_mps'"
     ]
    }
   ],
   "source": [
    "import torch\n",
    "torch.has_mps\n",
    "torch.device(\"mps\")"
   ]
  },
  {
   "cell_type": "code",
   "execution_count": 54,
   "id": "3796dbf4",
   "metadata": {},
   "outputs": [],
   "source": [
    "import pandas as pd\n",
    "pd.set_option(\"max_colwidth\", 2500)"
   ]
  },
  {
   "cell_type": "code",
   "execution_count": 15,
   "id": "a40ed4fe",
   "metadata": {},
   "outputs": [],
   "source": [
    "text = pd.read_csv('/Users/kaihayden/Downloads/kai_230326-query_1-874055747a9f-2023-04-01-07-41-43.csv')"
   ]
  },
  {
   "cell_type": "code",
   "execution_count": 16,
   "id": "c58f7143",
   "metadata": {},
   "outputs": [],
   "source": [
    "uniques = text.USER_ID.unique()"
   ]
  },
  {
   "cell_type": "code",
   "execution_count": 146,
   "id": "5b523599",
   "metadata": {},
   "outputs": [
    {
     "data": {
      "text/html": [
       "<div>\n",
       "<style scoped>\n",
       "    .dataframe tbody tr th:only-of-type {\n",
       "        vertical-align: middle;\n",
       "    }\n",
       "\n",
       "    .dataframe tbody tr th {\n",
       "        vertical-align: top;\n",
       "    }\n",
       "\n",
       "    .dataframe thead th {\n",
       "        text-align: right;\n",
       "    }\n",
       "</style>\n",
       "<table border=\"1\" class=\"dataframe\">\n",
       "  <thead>\n",
       "    <tr style=\"text-align: right;\">\n",
       "      <th></th>\n",
       "      <th>USER_ID</th>\n",
       "      <th>BODY</th>\n",
       "      <th>COMPLETED_AT</th>\n",
       "    </tr>\n",
       "  </thead>\n",
       "  <tbody>\n",
       "    <tr>\n",
       "      <th>67603</th>\n",
       "      <td>US39jAgO5i</td>\n",
       "      <td>Hello Phil, due to our company's recent change of name suffix from INC to LLC, we would like to remind you to promptly delete the old name and use the new one to avoid any potential issues. Thank you.</td>\n",
       "      <td>2023-03-28 06:48:52</td>\n",
       "    </tr>\n",
       "    <tr>\n",
       "      <th>67771</th>\n",
       "      <td>US39jAgO5i</td>\n",
       "      <td>Hi Jeef, This is Savi from SJ, this is my temporary phone number to confirm items, please help to reply here today, thank you</td>\n",
       "      <td>2023-03-28 05:50:34</td>\n",
       "    </tr>\n",
       "    <tr>\n",
       "      <th>67824</th>\n",
       "      <td>US39jAgO5i</td>\n",
       "      <td>container for soup 24oz -$39.99/cs\\ncontainer for soup 32oz -$43.99/cs</td>\n",
       "      <td>2023-03-28 05:38:45</td>\n",
       "    </tr>\n",
       "    <tr>\n",
       "      <th>67909</th>\n",
       "      <td>US39jAgO5i</td>\n",
       "      <td>Hi Mick, for whole pompano before was $99/cs, now it's going up a little bit $105/cs, please confirm, thanks</td>\n",
       "      <td>NaN</td>\n",
       "    </tr>\n",
       "    <tr>\n",
       "      <th>67997</th>\n",
       "      <td>US39jAgO5i</td>\n",
       "      <td>Hi Mahat, This is Savi from SJ, this is my temporary phone number to confirm items, please help to reply here today, thank you</td>\n",
       "      <td>2023-03-28 05:14:33</td>\n",
       "    </tr>\n",
       "    <tr>\n",
       "      <th>68053</th>\n",
       "      <td>US39jAgO5i</td>\n",
       "      <td>Yes we use many kinds of containers so I want to see what else you have</td>\n",
       "      <td>2023-03-28 05:07:02</td>\n",
       "    </tr>\n",
       "    <tr>\n",
       "      <th>68057</th>\n",
       "      <td>US39jAgO5i</td>\n",
       "      <td>Hi June, if you need something for tomorrow, please let me know before 10:30 pm, thanks🌹</td>\n",
       "      <td>2023-03-28 05:06:47</td>\n",
       "    </tr>\n",
       "    <tr>\n",
       "      <th>68079</th>\n",
       "      <td>US39jAgO5i</td>\n",
       "      <td>I got it she said she have to go put money in her account money, and then she will send it to you after.</td>\n",
       "      <td>2023-03-28 05:05:10</td>\n",
       "    </tr>\n",
       "    <tr>\n",
       "      <th>68086</th>\n",
       "      <td>US39jAgO5i</td>\n",
       "      <td>Hi Pat, This is Savi from SJ, this is my temporary phone number to confirm items, please help to reply here today, thank you</td>\n",
       "      <td>2023-03-28 05:04:15</td>\n",
       "    </tr>\n",
       "    <tr>\n",
       "      <th>68161</th>\n",
       "      <td>US39jAgO5i</td>\n",
       "      <td>Hi Kane, This is Savi from SJ, this is my temporary phone number to confirm items, please help to reply here today, thank you</td>\n",
       "      <td>2023-03-28 04:55:59</td>\n",
       "    </tr>\n",
       "    <tr>\n",
       "      <th>68893</th>\n",
       "      <td>US39jAgO5i</td>\n",
       "      <td>Hi Tee, This is Savi from SJ, this is my temporary phone number to confirm items, please help to reply here today, thank you</td>\n",
       "      <td>2023-03-28 03:15:39</td>\n",
       "    </tr>\n",
       "    <tr>\n",
       "      <th>69045</th>\n",
       "      <td>US39jAgO5i</td>\n",
       "      <td>Hi Milky, This is Savi from SJ, this is my temporary phone number to confirm items, please help to reply here today, thank you</td>\n",
       "      <td>2023-03-28 02:58:32</td>\n",
       "    </tr>\n",
       "    <tr>\n",
       "      <th>69332</th>\n",
       "      <td>US39jAgO5i</td>\n",
       "      <td>How about below meats?\\nbeef knuckle\\nbeef eyeround\\nfresh pork butt-$1.63/lb, before $1.67/lb\\nfrozen ck thigh-$1.28/lb\\nck breast-$1.50/lb, $60/cs\\nbeef brisket\\nquail</td>\n",
       "      <td>2023-03-28 02:31:36</td>\n",
       "    </tr>\n",
       "    <tr>\n",
       "      <th>70010</th>\n",
       "      <td>US39jAgO5i</td>\n",
       "      <td>May I know how many cases of breast do you need for tomorrow delivery?</td>\n",
       "      <td>2023-03-28 01:38:57</td>\n",
       "    </tr>\n",
       "    <tr>\n",
       "      <th>70032</th>\n",
       "      <td>US39jAgO5i</td>\n",
       "      <td>Hi Sasi, This is Savi from SJ, this is my temporary phone number to confirm items, please help to reply here today, thank you</td>\n",
       "      <td>2023-03-28 01:37:18</td>\n",
       "    </tr>\n",
       "    <tr>\n",
       "      <th>70148</th>\n",
       "      <td>US39jAgO5i</td>\n",
       "      <td>Hi Sam, This is Savi from SJ, this is my temporary phone number to confirm items, please help to reply here today, thank you</td>\n",
       "      <td>2023-03-28 01:29:12</td>\n",
       "    </tr>\n",
       "    <tr>\n",
       "      <th>70586</th>\n",
       "      <td>US39jAgO5i</td>\n",
       "      <td>That's good if you have enough money there. If they were returned again, there will be $30 bounce fee for each check</td>\n",
       "      <td>2023-03-28 00:55:16</td>\n",
       "    </tr>\n",
       "    <tr>\n",
       "      <th>70614</th>\n",
       "      <td>US39jAgO5i</td>\n",
       "      <td>There's no way it should be returned I will check tomorrow when I'm back at the restaurant</td>\n",
       "      <td>2023-03-28 00:53:49</td>\n",
       "    </tr>\n",
       "    <tr>\n",
       "      <th>70638</th>\n",
       "      <td>US39jAgO5i</td>\n",
       "      <td>Hi Bobbie, there are two check were returned bu the bank, may I know when can we deposit? Can we deposit it today?\\nThe check（#2553 ) for 18th delivery $225.53\\nThe check（#1074  ) for 21th delivery $345.95</td>\n",
       "      <td>2023-03-28 00:52:43</td>\n",
       "    </tr>\n",
       "    <tr>\n",
       "      <th>70659</th>\n",
       "      <td>US39jAgO5i</td>\n",
       "      <td>Hi Bobbie, there are two check were returned bu the bank, may I know when can we deposit? Can we deposit it today?\\nThe check（#2553 ) for 18th delivery $225.53\\nThe check（#1074  )for 18th delivery $345.95</td>\n",
       "      <td>2023-03-28 00:51:29</td>\n",
       "    </tr>\n",
       "  </tbody>\n",
       "</table>\n",
       "</div>"
      ],
      "text/plain": [
       "          USER_ID  \\\n",
       "67603  US39jAgO5i   \n",
       "67771  US39jAgO5i   \n",
       "67824  US39jAgO5i   \n",
       "67909  US39jAgO5i   \n",
       "67997  US39jAgO5i   \n",
       "68053  US39jAgO5i   \n",
       "68057  US39jAgO5i   \n",
       "68079  US39jAgO5i   \n",
       "68086  US39jAgO5i   \n",
       "68161  US39jAgO5i   \n",
       "68893  US39jAgO5i   \n",
       "69045  US39jAgO5i   \n",
       "69332  US39jAgO5i   \n",
       "70010  US39jAgO5i   \n",
       "70032  US39jAgO5i   \n",
       "70148  US39jAgO5i   \n",
       "70586  US39jAgO5i   \n",
       "70614  US39jAgO5i   \n",
       "70638  US39jAgO5i   \n",
       "70659  US39jAgO5i   \n",
       "\n",
       "                                                                                                                                                                                                                BODY  \\\n",
       "67603       Hello Phil, due to our company's recent change of name suffix from INC to LLC, we would like to remind you to promptly delete the old name and use the new one to avoid any potential issues. Thank you.   \n",
       "67771                                                                                  Hi Jeef, This is Savi from SJ, this is my temporary phone number to confirm items, please help to reply here today, thank you   \n",
       "67824                                                                                                                                         container for soup 24oz -$39.99/cs\\ncontainer for soup 32oz -$43.99/cs   \n",
       "67909                                                                                                   Hi Mick, for whole pompano before was $99/cs, now it's going up a little bit $105/cs, please confirm, thanks   \n",
       "67997                                                                                 Hi Mahat, This is Savi from SJ, this is my temporary phone number to confirm items, please help to reply here today, thank you   \n",
       "68053                                                                                                                                        Yes we use many kinds of containers so I want to see what else you have   \n",
       "68057                                                                                                                       Hi June, if you need something for tomorrow, please let me know before 10:30 pm, thanks🌹   \n",
       "68079                                                                                                      I got it she said she have to go put money in her account money, and then she will send it to you after.    \n",
       "68086                                                                                   Hi Pat, This is Savi from SJ, this is my temporary phone number to confirm items, please help to reply here today, thank you   \n",
       "68161                                                                                  Hi Kane, This is Savi from SJ, this is my temporary phone number to confirm items, please help to reply here today, thank you   \n",
       "68893                                                                                   Hi Tee, This is Savi from SJ, this is my temporary phone number to confirm items, please help to reply here today, thank you   \n",
       "69045                                                                                 Hi Milky, This is Savi from SJ, this is my temporary phone number to confirm items, please help to reply here today, thank you   \n",
       "69332                                      How about below meats?\\nbeef knuckle\\nbeef eyeround\\nfresh pork butt-$1.63/lb, before $1.67/lb\\nfrozen ck thigh-$1.28/lb\\nck breast-$1.50/lb, $60/cs\\nbeef brisket\\nquail   \n",
       "70010                                                                                                                                         May I know how many cases of breast do you need for tomorrow delivery?   \n",
       "70032                                                                                  Hi Sasi, This is Savi from SJ, this is my temporary phone number to confirm items, please help to reply here today, thank you   \n",
       "70148                                                                                   Hi Sam, This is Savi from SJ, this is my temporary phone number to confirm items, please help to reply here today, thank you   \n",
       "70586                                                                                           That's good if you have enough money there. If they were returned again, there will be $30 bounce fee for each check   \n",
       "70614                                                                                                                    There's no way it should be returned I will check tomorrow when I'm back at the restaurant    \n",
       "70638  Hi Bobbie, there are two check were returned bu the bank, may I know when can we deposit? Can we deposit it today?\\nThe check（#2553 ) for 18th delivery $225.53\\nThe check（#1074  ) for 21th delivery $345.95   \n",
       "70659   Hi Bobbie, there are two check were returned bu the bank, may I know when can we deposit? Can we deposit it today?\\nThe check（#2553 ) for 18th delivery $225.53\\nThe check（#1074  )for 18th delivery $345.95   \n",
       "\n",
       "              COMPLETED_AT  \n",
       "67603  2023-03-28 06:48:52  \n",
       "67771  2023-03-28 05:50:34  \n",
       "67824  2023-03-28 05:38:45  \n",
       "67909                  NaN  \n",
       "67997  2023-03-28 05:14:33  \n",
       "68053  2023-03-28 05:07:02  \n",
       "68057  2023-03-28 05:06:47  \n",
       "68079  2023-03-28 05:05:10  \n",
       "68086  2023-03-28 05:04:15  \n",
       "68161  2023-03-28 04:55:59  \n",
       "68893  2023-03-28 03:15:39  \n",
       "69045  2023-03-28 02:58:32  \n",
       "69332  2023-03-28 02:31:36  \n",
       "70010  2023-03-28 01:38:57  \n",
       "70032  2023-03-28 01:37:18  \n",
       "70148  2023-03-28 01:29:12  \n",
       "70586  2023-03-28 00:55:16  \n",
       "70614  2023-03-28 00:53:49  \n",
       "70638  2023-03-28 00:52:43  \n",
       "70659  2023-03-28 00:51:29  "
      ]
     },
     "execution_count": 146,
     "metadata": {},
     "output_type": "execute_result"
    }
   ],
   "source": [
    "text[text['USER_ID'] == uniques[84]][40:60]"
   ]
  },
  {
   "cell_type": "code",
   "execution_count": null,
   "id": "cb382df7",
   "metadata": {},
   "outputs": [],
   "source": []
  },
  {
   "cell_type": "code",
   "execution_count": null,
   "id": "b5b8a4b5",
   "metadata": {},
   "outputs": [],
   "source": []
  },
  {
   "cell_type": "code",
   "execution_count": 25,
   "id": "6a7ecff7",
   "metadata": {},
   "outputs": [],
   "source": [
    "# text_subset = text.iloc[:1000]"
   ]
  },
  {
   "cell_type": "code",
   "execution_count": 4,
   "id": "96b6f6b9",
   "metadata": {},
   "outputs": [
    {
     "data": {
      "text/plain": [
       "'1.11.0'"
      ]
     },
     "execution_count": 4,
     "metadata": {},
     "output_type": "execute_result"
    }
   ],
   "source": [
    "torch.__version__"
   ]
  },
  {
   "cell_type": "code",
   "execution_count": 5,
   "id": "bcee9d8b",
   "metadata": {},
   "outputs": [],
   "source": [
    "def confidence(cos_sim):\n",
    "    percent_dist = (math.pi - math.acos(cos_sim)) * 100 / math.pi\n",
    "    return percent_dist"
   ]
  },
  {
   "cell_type": "code",
   "execution_count": 225,
   "id": "8a2db34e",
   "metadata": {},
   "outputs": [],
   "source": [
    "import math\n",
    "import torch\n",
    "import pandas as pd\n",
    "from sentence_transformers import SentenceTransformer, util\n",
    "model = SentenceTransformer('all-MiniLM-L6-v2')\n"
   ]
  },
  {
   "cell_type": "code",
   "execution_count": 226,
   "id": "0a27e72c",
   "metadata": {},
   "outputs": [],
   "source": [
    "sentences = ['What is the price of this?']"
   ]
  },
  {
   "cell_type": "code",
   "execution_count": 227,
   "id": "0615c4e7",
   "metadata": {},
   "outputs": [],
   "source": [
    "categories = ['Price or Product Inquiry',\n",
    "              'Order Placement',\n",
    "              'Status Update',\n",
    "              'Appointment Scheduling',\n",
    "              'Customer Outreach']"
   ]
  },
  {
   "cell_type": "code",
   "execution_count": 228,
   "id": "152dfec4",
   "metadata": {
    "scrolled": true
   },
   "outputs": [],
   "source": [
    "text_embeddings = model.encode(sentences)\n",
    "category_embeddings = model.encode(categories)\n",
    "\n",
    "categories_map = {k: v for k, v in enumerate(categories)}"
   ]
  },
  {
   "cell_type": "code",
   "execution_count": 229,
   "id": "36b41a1d",
   "metadata": {},
   "outputs": [],
   "source": [
    "category_similarity = util.cos_sim(text_embeddings, category_embeddings)\n",
    "\n",
    "categories_argmax = int(category_similarity.argmax(axis=1)[0])\n",
    "categories_str = categories_map.get(categories_argmax, None)\n",
    "\n",
    "categories_max = float(category_similarity.max(axis=1)[0][0])\n",
    "categories_confidence = confidence(categories_max)"
   ]
  },
  {
   "cell_type": "code",
   "execution_count": 231,
   "id": "7133f914",
   "metadata": {},
   "outputs": [
    {
     "name": "stdout",
     "output_type": "stream",
     "text": [
      "['What is the price of this?'] Price or Product Inquiry 72.88291991685182\n"
     ]
    }
   ],
   "source": [
    "print(sentences, categories_str, categories_confidence)"
   ]
  },
  {
   "cell_type": "code",
   "execution_count": null,
   "id": "5a3dba23",
   "metadata": {},
   "outputs": [],
   "source": []
  }
 ],
 "metadata": {
  "kernelspec": {
   "display_name": "Python 3 (ipykernel)",
   "language": "python",
   "name": "python3"
  },
  "language_info": {
   "codemirror_mode": {
    "name": "ipython",
    "version": 3
   },
   "file_extension": ".py",
   "mimetype": "text/x-python",
   "name": "python",
   "nbconvert_exporter": "python",
   "pygments_lexer": "ipython3",
   "version": "3.9.7"
  }
 },
 "nbformat": 4,
 "nbformat_minor": 5
}
