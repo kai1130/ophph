{
 "cells": [
  {
   "cell_type": "code",
   "execution_count": 4,
   "id": "252cafc8",
   "metadata": {},
   "outputs": [],
   "source": [
    "# !conda install -c pytorch-nightly pytorch\n"
   ]
  },
  {
   "cell_type": "code",
   "execution_count": 5,
   "id": "875b30ec",
   "metadata": {},
   "outputs": [],
   "source": [
    "# import torch\n",
    "# torch.has_mps\n",
    "#torch.device(\"mps\")"
   ]
  },
  {
   "cell_type": "code",
   "execution_count": 7,
   "id": "a40ed4fe",
   "metadata": {},
   "outputs": [],
   "source": [
    "# text = pd.read_csv('/Users/kaihayden/Downloads/kai_230326-query_1-874055747a9f-2023-04-01-07-41-43.csv')"
   ]
  },
  {
   "cell_type": "code",
   "execution_count": 25,
   "id": "6a7ecff7",
   "metadata": {},
   "outputs": [],
   "source": [
    "# text_subset = text.iloc[:1000]"
   ]
  },
  {
   "cell_type": "code",
   "execution_count": null,
   "id": "8010f6b5",
   "metadata": {},
   "outputs": [],
   "source": [
    "to"
   ]
  },
  {
   "cell_type": "code",
   "execution_count": 225,
   "id": "8a2db34e",
   "metadata": {},
   "outputs": [],
   "source": [
    "import math\n",
    "import torch\n",
    "import pandas as pd\n",
    "from sentence_transformers import SentenceTransformer, util\n",
    "model = SentenceTransformer('all-MiniLM-L6-v2')\n"
   ]
  },
  {
   "cell_type": "code",
   "execution_count": 226,
   "id": "0a27e72c",
   "metadata": {},
   "outputs": [],
   "source": [
    "sentences = ['What is the price of this?']"
   ]
  },
  {
   "cell_type": "code",
   "execution_count": 227,
   "id": "0615c4e7",
   "metadata": {},
   "outputs": [],
   "source": [
    "categories = ['Price or Product Inquiry',\n",
    "              'Order Placement',\n",
    "              'Status Update',\n",
    "              'Appointment Scheduling',\n",
    "              'Customer Outreach']"
   ]
  },
  {
   "cell_type": "code",
   "execution_count": 228,
   "id": "152dfec4",
   "metadata": {
    "scrolled": true
   },
   "outputs": [],
   "source": [
    "text_embeddings = model.encode(sentences)\n",
    "category_embeddings = model.encode(categories)\n",
    "\n",
    "categories_map = {k: v for k, v in enumerate(categories)}"
   ]
  },
  {
   "cell_type": "code",
   "execution_count": 229,
   "id": "36b41a1d",
   "metadata": {},
   "outputs": [],
   "source": [
    "category_similarity = util.cos_sim(text_embeddings, category_embeddings)\n",
    "\n",
    "categories_argmax = int(category_similarity.argmax(axis=1)[0])\n",
    "categories_str = categories_map.get(categories_argmax, None)\n",
    "\n",
    "categories_max = float(category_similarity.max(axis=1)[0][0])\n",
    "categories_confidence = confidence(categories_max)"
   ]
  },
  {
   "cell_type": "code",
   "execution_count": 231,
   "id": "7133f914",
   "metadata": {},
   "outputs": [
    {
     "name": "stdout",
     "output_type": "stream",
     "text": [
      "['What is the price of this?'] Price or Product Inquiry 72.88291991685182\n"
     ]
    }
   ],
   "source": [
    "print(sentences, categories_str, categories_confidence)"
   ]
  },
  {
   "cell_type": "code",
   "execution_count": null,
   "id": "5a3dba23",
   "metadata": {},
   "outputs": [],
   "source": []
  }
 ],
 "metadata": {
  "kernelspec": {
   "display_name": "Python 3 (ipykernel)",
   "language": "python",
   "name": "python3"
  },
  "language_info": {
   "codemirror_mode": {
    "name": "ipython",
    "version": 3
   },
   "file_extension": ".py",
   "mimetype": "text/x-python",
   "name": "python",
   "nbconvert_exporter": "python",
   "pygments_lexer": "ipython3",
   "version": "3.9.7"
  }
 },
 "nbformat": 4,
 "nbformat_minor": 5
}
